{
 "cells": [
  {
   "cell_type": "markdown",
   "metadata": {},
   "source": [
    "# Covid-19 to SQL\n",
    "\n",
    "- Updates data from John Hopkins\n",
    "- Populates CovidLocs tale\n",
    "- (Re-)populates CovidCases table"
   ]
  },
  {
   "cell_type": "code",
   "execution_count": 1,
   "metadata": {},
   "outputs": [],
   "source": [
    "import pandas as pd\n",
    "import sqlalchemy as sal\n",
    "import requests\n",
    "from os.path import basename\n",
    "import getpass\n",
    "import numpy as np"
   ]
  },
  {
   "cell_type": "code",
   "execution_count": 2,
   "metadata": {},
   "outputs": [
    {
     "name": "stdout",
     "output_type": "stream",
     "text": [
      "Enter database password········\n"
     ]
    }
   ],
   "source": [
    "endpoint = \"capstone.clihskgj8i7s.us-west-2.rds.amazonaws.com\"\n",
    "user=\"group3\"\n",
    "db=\"db1\"\n",
    "pw=getpass.getpass(\"Enter database password\")"
   ]
  },
  {
   "cell_type": "code",
   "execution_count": 3,
   "metadata": {},
   "outputs": [],
   "source": [
    "engine = sal.create_engine('postgresql://%s:%s@%s/%s' % (user, pw, endpoint, db))"
   ]
  },
  {
   "cell_type": "code",
   "execution_count": 4,
   "metadata": {},
   "outputs": [],
   "source": [
    "url1=\"https://github.com/CSSEGISandData/COVID-19/raw/master/csse_covid_19_data/csse_covid_19_time_series/time_series_covid19_deaths_US.csv\"\n",
    "url2=\"https://github.com/CSSEGISandData/COVID-19/raw/master/csse_covid_19_data/csse_covid_19_time_series/time_series_covid19_confirmed_US.csv\"\n"
   ]
  },
  {
   "cell_type": "code",
   "execution_count": 5,
   "metadata": {},
   "outputs": [],
   "source": [
    "for url in [url1, url2]:\n",
    "    r=requests.get(url)\n",
    "\n",
    "    with open (basename(url), \"wb\") as fid:\n",
    "        fid.write(r.content)"
   ]
  },
  {
   "cell_type": "code",
   "execution_count": 6,
   "metadata": {},
   "outputs": [
    {
     "name": "stdout",
     "output_type": "stream",
     "text": [
      "time_series_covid19_confirmed_US.csv  time_series_covid19_deaths_US.csv\r\n"
     ]
    }
   ],
   "source": [
    "!ls *.csv"
   ]
  },
  {
   "cell_type": "code",
   "execution_count": 7,
   "metadata": {},
   "outputs": [],
   "source": [
    "dfd=pd.read_csv(basename(url1))\n",
    "dfc=pd.read_csv(basename(url2))"
   ]
  },
  {
   "cell_type": "code",
   "execution_count": 8,
   "metadata": {},
   "outputs": [
    {
     "data": {
      "text/plain": [
       "Index(['UID', 'iso2', 'iso3', 'code3', 'FIPS', 'Admin2', 'Province_State',\n",
       "       'Country_Region', 'Lat', 'Long_', 'Combined_Key', 'Population',\n",
       "       '1/22/20'],\n",
       "      dtype='object')"
      ]
     },
     "execution_count": 8,
     "metadata": {},
     "output_type": "execute_result"
    }
   ],
   "source": [
    "dfd.columns[0:13]"
   ]
  },
  {
   "cell_type": "code",
   "execution_count": 9,
   "metadata": {},
   "outputs": [
    {
     "data": {
      "text/plain": [
       "Index(['UID', 'iso2', 'iso3', 'code3', 'FIPS', 'Admin2', 'Province_State',\n",
       "       'Country_Region', 'Lat', 'Long_', 'Combined_Key', '1/22/20', '1/23/20'],\n",
       "      dtype='object')"
      ]
     },
     "execution_count": 9,
     "metadata": {},
     "output_type": "execute_result"
    }
   ],
   "source": [
    "dfc.columns[0:13]"
   ]
  },
  {
   "cell_type": "code",
   "execution_count": 10,
   "metadata": {},
   "outputs": [
    {
     "data": {
      "text/plain": [
       "0    Autauga, Alabama, US\n",
       "1    Baldwin, Alabama, US\n",
       "2    Barbour, Alabama, US\n",
       "3       Bibb, Alabama, US\n",
       "4     Blount, Alabama, US\n",
       "Name: Combined_Key, dtype: object"
      ]
     },
     "execution_count": 10,
     "metadata": {},
     "output_type": "execute_result"
    }
   ],
   "source": [
    "dfc[\"Combined_Key\"].head()"
   ]
  },
  {
   "cell_type": "code",
   "execution_count": 11,
   "metadata": {
    "scrolled": false
   },
   "outputs": [
    {
     "data": {
      "text/html": [
       "<div>\n",
       "<style scoped>\n",
       "    .dataframe tbody tr th:only-of-type {\n",
       "        vertical-align: middle;\n",
       "    }\n",
       "\n",
       "    .dataframe tbody tr th {\n",
       "        vertical-align: top;\n",
       "    }\n",
       "\n",
       "    .dataframe thead th {\n",
       "        text-align: right;\n",
       "    }\n",
       "</style>\n",
       "<table border=\"1\" class=\"dataframe\">\n",
       "  <thead>\n",
       "    <tr style=\"text-align: right;\">\n",
       "      <th></th>\n",
       "      <th>uid</th>\n",
       "      <th>iso2</th>\n",
       "      <th>iso3</th>\n",
       "      <th>code3</th>\n",
       "      <th>fips</th>\n",
       "      <th>admin2</th>\n",
       "      <th>province_state</th>\n",
       "      <th>country_region</th>\n",
       "      <th>latitude</th>\n",
       "      <th>longitude</th>\n",
       "      <th>combined_key</th>\n",
       "      <th>population</th>\n",
       "    </tr>\n",
       "  </thead>\n",
       "  <tbody>\n",
       "    <tr>\n",
       "      <th>0</th>\n",
       "      <td>84001001</td>\n",
       "      <td>US</td>\n",
       "      <td>USA</td>\n",
       "      <td>840</td>\n",
       "      <td>1001.0</td>\n",
       "      <td>Autauga</td>\n",
       "      <td>Alabama</td>\n",
       "      <td>US</td>\n",
       "      <td>32.539527</td>\n",
       "      <td>-86.644082</td>\n",
       "      <td>Autauga, Alabama, US</td>\n",
       "      <td>55869.0</td>\n",
       "    </tr>\n",
       "  </tbody>\n",
       "</table>\n",
       "</div>"
      ],
      "text/plain": [
       "        uid  iso2 iso3 code3    fips   admin2 province_state country_region  \\\n",
       "0  84001001  US    USA  840   1001.0  Autauga        Alabama             US   \n",
       "\n",
       "    latitude  longitude          combined_key  population  \n",
       "0  32.539527 -86.644082  Autauga, Alabama, US     55869.0  "
      ]
     },
     "execution_count": 11,
     "metadata": {},
     "output_type": "execute_result"
    }
   ],
   "source": [
    "pd.read_sql('select * from CovidLocs limit 1', engine)"
   ]
  },
  {
   "cell_type": "code",
   "execution_count": 13,
   "metadata": {},
   "outputs": [],
   "source": [
    "#CovidLocs[\"latlon\"] = CovidLocs[[\"Lat\",\"Long_\"]].apply(lambda x: tuple([*x]), axis=1)\n",
    "#CovidLocs=CovidLocs.drop(columns=[\"Lat\",\"Long_\"], axis=1)"
   ]
  },
  {
   "cell_type": "code",
   "execution_count": 14,
   "metadata": {},
   "outputs": [],
   "source": [
    "#CovidLocs=CovidLocs[[\"iso2\",\"iso3\",\"code3\",\"fips\",\"admin2\",\"province_state\", \\\n",
    "#                   \"country_region\",\"combined_key\",\"latlon\",\"population\"]]"
   ]
  },
  {
   "cell_type": "code",
   "execution_count": 64,
   "metadata": {},
   "outputs": [],
   "source": [
    "#CovidLocs[CovidLocs[\"admin2\"] == np.nan]\n",
    "#CovidLocs[CovidLocs[\"iso3\"] == \"ASM\"]\n",
    "#CovidLocs.loc[84070002,:]"
   ]
  },
  {
   "cell_type": "code",
   "execution_count": 66,
   "metadata": {},
   "outputs": [],
   "source": [
    "def get_covidlocs(indf):\n",
    "    CovidLocs=indf.iloc[:,0:12]\n",
    "    cols=list(CovidLocs.columns.str.lower())\n",
    "    cols[8] = \"latitude\"\n",
    "    cols[9] = \"longitude\"\n",
    "    CovidLocs.columns=cols\n",
    "\n",
    "    CovidLocs.set_index(\"uid\", drop=True, inplace=True)\n",
    "\n",
    "    # Set 'Unassigned' admin2 regions to None such that they will be null in the database\n",
    "    mask=CovidLocs[\"admin2\"] == \"Unassigned\"\n",
    "    CovidLocs.loc[mask,\"admin2\"] = np.nan\n",
    "\n",
    "    # set zero latitudes and longitudes also to none \n",
    "    for col in [\"latitude\",\"longitude\",\"population\"]:\n",
    "        mask=CovidLocs[col] == 0.0\n",
    "        CovidLocs.loc[mask,col] = np.nan\n",
    "        \n",
    "    return CovidLocs"
   ]
  },
  {
   "cell_type": "code",
   "execution_count": 67,
   "metadata": {},
   "outputs": [],
   "source": [
    "CovidLocs=get_covidlocs(dfd)"
   ]
  },
  {
   "cell_type": "code",
   "execution_count": 68,
   "metadata": {
    "scrolled": false
   },
   "outputs": [
    {
     "data": {
      "text/html": [
       "<div>\n",
       "<style scoped>\n",
       "    .dataframe tbody tr th:only-of-type {\n",
       "        vertical-align: middle;\n",
       "    }\n",
       "\n",
       "    .dataframe tbody tr th {\n",
       "        vertical-align: top;\n",
       "    }\n",
       "\n",
       "    .dataframe thead th {\n",
       "        text-align: right;\n",
       "    }\n",
       "</style>\n",
       "<table border=\"1\" class=\"dataframe\">\n",
       "  <thead>\n",
       "    <tr style=\"text-align: right;\">\n",
       "      <th></th>\n",
       "      <th>iso2</th>\n",
       "      <th>iso3</th>\n",
       "      <th>code3</th>\n",
       "      <th>fips</th>\n",
       "      <th>admin2</th>\n",
       "      <th>province_state</th>\n",
       "      <th>country_region</th>\n",
       "      <th>latitude</th>\n",
       "      <th>longitude</th>\n",
       "      <th>combined_key</th>\n",
       "      <th>population</th>\n",
       "    </tr>\n",
       "    <tr>\n",
       "      <th>uid</th>\n",
       "      <th></th>\n",
       "      <th></th>\n",
       "      <th></th>\n",
       "      <th></th>\n",
       "      <th></th>\n",
       "      <th></th>\n",
       "      <th></th>\n",
       "      <th></th>\n",
       "      <th></th>\n",
       "      <th></th>\n",
       "      <th></th>\n",
       "    </tr>\n",
       "  </thead>\n",
       "  <tbody>\n",
       "    <tr>\n",
       "      <th>84001001</th>\n",
       "      <td>US</td>\n",
       "      <td>USA</td>\n",
       "      <td>840</td>\n",
       "      <td>1001.0</td>\n",
       "      <td>Autauga</td>\n",
       "      <td>Alabama</td>\n",
       "      <td>US</td>\n",
       "      <td>32.539527</td>\n",
       "      <td>-86.644082</td>\n",
       "      <td>Autauga, Alabama, US</td>\n",
       "      <td>55869.0</td>\n",
       "    </tr>\n",
       "    <tr>\n",
       "      <th>84001003</th>\n",
       "      <td>US</td>\n",
       "      <td>USA</td>\n",
       "      <td>840</td>\n",
       "      <td>1003.0</td>\n",
       "      <td>Baldwin</td>\n",
       "      <td>Alabama</td>\n",
       "      <td>US</td>\n",
       "      <td>30.727750</td>\n",
       "      <td>-87.722071</td>\n",
       "      <td>Baldwin, Alabama, US</td>\n",
       "      <td>223234.0</td>\n",
       "    </tr>\n",
       "    <tr>\n",
       "      <th>84001005</th>\n",
       "      <td>US</td>\n",
       "      <td>USA</td>\n",
       "      <td>840</td>\n",
       "      <td>1005.0</td>\n",
       "      <td>Barbour</td>\n",
       "      <td>Alabama</td>\n",
       "      <td>US</td>\n",
       "      <td>31.868263</td>\n",
       "      <td>-85.387129</td>\n",
       "      <td>Barbour, Alabama, US</td>\n",
       "      <td>24686.0</td>\n",
       "    </tr>\n",
       "    <tr>\n",
       "      <th>84001007</th>\n",
       "      <td>US</td>\n",
       "      <td>USA</td>\n",
       "      <td>840</td>\n",
       "      <td>1007.0</td>\n",
       "      <td>Bibb</td>\n",
       "      <td>Alabama</td>\n",
       "      <td>US</td>\n",
       "      <td>32.996421</td>\n",
       "      <td>-87.125115</td>\n",
       "      <td>Bibb, Alabama, US</td>\n",
       "      <td>22394.0</td>\n",
       "    </tr>\n",
       "    <tr>\n",
       "      <th>84001009</th>\n",
       "      <td>US</td>\n",
       "      <td>USA</td>\n",
       "      <td>840</td>\n",
       "      <td>1009.0</td>\n",
       "      <td>Blount</td>\n",
       "      <td>Alabama</td>\n",
       "      <td>US</td>\n",
       "      <td>33.982109</td>\n",
       "      <td>-86.567906</td>\n",
       "      <td>Blount, Alabama, US</td>\n",
       "      <td>57826.0</td>\n",
       "    </tr>\n",
       "  </tbody>\n",
       "</table>\n",
       "</div>"
      ],
      "text/plain": [
       "         iso2 iso3  code3    fips   admin2 province_state country_region  \\\n",
       "uid                                                                        \n",
       "84001001   US  USA    840  1001.0  Autauga        Alabama             US   \n",
       "84001003   US  USA    840  1003.0  Baldwin        Alabama             US   \n",
       "84001005   US  USA    840  1005.0  Barbour        Alabama             US   \n",
       "84001007   US  USA    840  1007.0     Bibb        Alabama             US   \n",
       "84001009   US  USA    840  1009.0   Blount        Alabama             US   \n",
       "\n",
       "           latitude  longitude          combined_key  population  \n",
       "uid                                                               \n",
       "84001001  32.539527 -86.644082  Autauga, Alabama, US     55869.0  \n",
       "84001003  30.727750 -87.722071  Baldwin, Alabama, US    223234.0  \n",
       "84001005  31.868263 -85.387129  Barbour, Alabama, US     24686.0  \n",
       "84001007  32.996421 -87.125115     Bibb, Alabama, US     22394.0  \n",
       "84001009  33.982109 -86.567906   Blount, Alabama, US     57826.0  "
      ]
     },
     "execution_count": 68,
     "metadata": {},
     "output_type": "execute_result"
    }
   ],
   "source": [
    "CovidLocs.head(n=5)"
   ]
  },
  {
   "cell_type": "markdown",
   "metadata": {},
   "source": [
    "Admin2, fips, latutide and longitude now contain NaN (null) values. I had to remove the 'not null' constraints from these attributes to make the code below work:"
   ]
  },
  {
   "cell_type": "markdown",
   "metadata": {},
   "source": [
    "We might not want to update the `CovidLocs` table each day, assuming these values remain unchanged.  So I commented out the cells below."
   ]
  },
  {
   "cell_type": "code",
   "execution_count": 69,
   "metadata": {},
   "outputs": [],
   "source": [
    "#drop all values from covidlocs\n",
    "#res=engine.execute(\"delete from covidlocs\")"
   ]
  },
  {
   "cell_type": "code",
   "execution_count": 70,
   "metadata": {
    "scrolled": false
   },
   "outputs": [],
   "source": [
    "#CovidLocs.to_sql(\"covidlocs\", engine, if_exists='append');"
   ]
  },
  {
   "cell_type": "code",
   "execution_count": 71,
   "metadata": {},
   "outputs": [
    {
     "data": {
      "text/html": [
       "<div>\n",
       "<style scoped>\n",
       "    .dataframe tbody tr th:only-of-type {\n",
       "        vertical-align: middle;\n",
       "    }\n",
       "\n",
       "    .dataframe tbody tr th {\n",
       "        vertical-align: top;\n",
       "    }\n",
       "\n",
       "    .dataframe thead th {\n",
       "        text-align: right;\n",
       "    }\n",
       "</style>\n",
       "<table border=\"1\" class=\"dataframe\">\n",
       "  <thead>\n",
       "    <tr style=\"text-align: right;\">\n",
       "      <th></th>\n",
       "      <th>iso2</th>\n",
       "      <th>iso3</th>\n",
       "      <th>code3</th>\n",
       "      <th>fips</th>\n",
       "      <th>admin2</th>\n",
       "      <th>province_state</th>\n",
       "      <th>country_region</th>\n",
       "      <th>latitude</th>\n",
       "      <th>longitude</th>\n",
       "      <th>combined_key</th>\n",
       "      <th>population</th>\n",
       "    </tr>\n",
       "    <tr>\n",
       "      <th>uid</th>\n",
       "      <th></th>\n",
       "      <th></th>\n",
       "      <th></th>\n",
       "      <th></th>\n",
       "      <th></th>\n",
       "      <th></th>\n",
       "      <th></th>\n",
       "      <th></th>\n",
       "      <th></th>\n",
       "      <th></th>\n",
       "      <th></th>\n",
       "    </tr>\n",
       "  </thead>\n",
       "  <tbody>\n",
       "    <tr>\n",
       "      <th>84099999</th>\n",
       "      <td>US</td>\n",
       "      <td>USA</td>\n",
       "      <td>840</td>\n",
       "      <td>99999.0</td>\n",
       "      <td>None</td>\n",
       "      <td>Grand Princess</td>\n",
       "      <td>US</td>\n",
       "      <td>None</td>\n",
       "      <td>None</td>\n",
       "      <td>Grand Princess, US</td>\n",
       "      <td>None</td>\n",
       "    </tr>\n",
       "    <tr>\n",
       "      <th>84090056</th>\n",
       "      <td>US</td>\n",
       "      <td>USA</td>\n",
       "      <td>840</td>\n",
       "      <td>90056.0</td>\n",
       "      <td>None</td>\n",
       "      <td>Wyoming</td>\n",
       "      <td>US</td>\n",
       "      <td>None</td>\n",
       "      <td>None</td>\n",
       "      <td>Unassigned, Wyoming, US</td>\n",
       "      <td>None</td>\n",
       "    </tr>\n",
       "    <tr>\n",
       "      <th>84090055</th>\n",
       "      <td>US</td>\n",
       "      <td>USA</td>\n",
       "      <td>840</td>\n",
       "      <td>90055.0</td>\n",
       "      <td>None</td>\n",
       "      <td>Wisconsin</td>\n",
       "      <td>US</td>\n",
       "      <td>None</td>\n",
       "      <td>None</td>\n",
       "      <td>Unassigned, Wisconsin, US</td>\n",
       "      <td>None</td>\n",
       "    </tr>\n",
       "    <tr>\n",
       "      <th>84090054</th>\n",
       "      <td>US</td>\n",
       "      <td>USA</td>\n",
       "      <td>840</td>\n",
       "      <td>90054.0</td>\n",
       "      <td>None</td>\n",
       "      <td>West Virginia</td>\n",
       "      <td>US</td>\n",
       "      <td>None</td>\n",
       "      <td>None</td>\n",
       "      <td>Unassigned, West Virginia, US</td>\n",
       "      <td>None</td>\n",
       "    </tr>\n",
       "    <tr>\n",
       "      <th>84090053</th>\n",
       "      <td>US</td>\n",
       "      <td>USA</td>\n",
       "      <td>840</td>\n",
       "      <td>90053.0</td>\n",
       "      <td>None</td>\n",
       "      <td>Washington</td>\n",
       "      <td>US</td>\n",
       "      <td>None</td>\n",
       "      <td>None</td>\n",
       "      <td>Unassigned, Washington, US</td>\n",
       "      <td>None</td>\n",
       "    </tr>\n",
       "  </tbody>\n",
       "</table>\n",
       "</div>"
      ],
      "text/plain": [
       "          iso2 iso3 code3     fips admin2  province_state country_region  \\\n",
       "uid                                                                        \n",
       "84099999  US    USA  840   99999.0   None  Grand Princess             US   \n",
       "84090056  US    USA  840   90056.0   None         Wyoming             US   \n",
       "84090055  US    USA  840   90055.0   None       Wisconsin             US   \n",
       "84090054  US    USA  840   90054.0   None   West Virginia             US   \n",
       "84090053  US    USA  840   90053.0   None      Washington             US   \n",
       "\n",
       "         latitude longitude                   combined_key population  \n",
       "uid                                                                    \n",
       "84099999     None      None             Grand Princess, US       None  \n",
       "84090056     None      None        Unassigned, Wyoming, US       None  \n",
       "84090055     None      None      Unassigned, Wisconsin, US       None  \n",
       "84090054     None      None  Unassigned, West Virginia, US       None  \n",
       "84090053     None      None     Unassigned, Washington, US       None  "
      ]
     },
     "execution_count": 71,
     "metadata": {},
     "output_type": "execute_result"
    }
   ],
   "source": [
    "pd.read_sql('select * from covidlocs order by uid desc limit 5', engine, index_col=\"uid\")"
   ]
  },
  {
   "cell_type": "markdown",
   "metadata": {},
   "source": [
    "There are a lot of undefined values and zeros in the data.  Checking that these were also present in the dataframe (sorting the same way):"
   ]
  },
  {
   "cell_type": "code",
   "execution_count": 72,
   "metadata": {
    "scrolled": false
   },
   "outputs": [
    {
     "data": {
      "text/html": [
       "<div>\n",
       "<style scoped>\n",
       "    .dataframe tbody tr th:only-of-type {\n",
       "        vertical-align: middle;\n",
       "    }\n",
       "\n",
       "    .dataframe tbody tr th {\n",
       "        vertical-align: top;\n",
       "    }\n",
       "\n",
       "    .dataframe thead th {\n",
       "        text-align: right;\n",
       "    }\n",
       "</style>\n",
       "<table border=\"1\" class=\"dataframe\">\n",
       "  <thead>\n",
       "    <tr style=\"text-align: right;\">\n",
       "      <th></th>\n",
       "      <th>iso2</th>\n",
       "      <th>iso3</th>\n",
       "      <th>code3</th>\n",
       "      <th>fips</th>\n",
       "      <th>admin2</th>\n",
       "      <th>province_state</th>\n",
       "      <th>country_region</th>\n",
       "      <th>latitude</th>\n",
       "      <th>longitude</th>\n",
       "      <th>combined_key</th>\n",
       "      <th>population</th>\n",
       "    </tr>\n",
       "    <tr>\n",
       "      <th>uid</th>\n",
       "      <th></th>\n",
       "      <th></th>\n",
       "      <th></th>\n",
       "      <th></th>\n",
       "      <th></th>\n",
       "      <th></th>\n",
       "      <th></th>\n",
       "      <th></th>\n",
       "      <th></th>\n",
       "      <th></th>\n",
       "      <th></th>\n",
       "    </tr>\n",
       "  </thead>\n",
       "  <tbody>\n",
       "    <tr>\n",
       "      <th>84099999</th>\n",
       "      <td>US</td>\n",
       "      <td>USA</td>\n",
       "      <td>840</td>\n",
       "      <td>99999.0</td>\n",
       "      <td>NaN</td>\n",
       "      <td>Grand Princess</td>\n",
       "      <td>US</td>\n",
       "      <td>NaN</td>\n",
       "      <td>NaN</td>\n",
       "      <td>Grand Princess, US</td>\n",
       "      <td>NaN</td>\n",
       "    </tr>\n",
       "    <tr>\n",
       "      <th>84090056</th>\n",
       "      <td>US</td>\n",
       "      <td>USA</td>\n",
       "      <td>840</td>\n",
       "      <td>90056.0</td>\n",
       "      <td>NaN</td>\n",
       "      <td>Wyoming</td>\n",
       "      <td>US</td>\n",
       "      <td>NaN</td>\n",
       "      <td>NaN</td>\n",
       "      <td>Unassigned, Wyoming, US</td>\n",
       "      <td>NaN</td>\n",
       "    </tr>\n",
       "    <tr>\n",
       "      <th>84090055</th>\n",
       "      <td>US</td>\n",
       "      <td>USA</td>\n",
       "      <td>840</td>\n",
       "      <td>90055.0</td>\n",
       "      <td>NaN</td>\n",
       "      <td>Wisconsin</td>\n",
       "      <td>US</td>\n",
       "      <td>NaN</td>\n",
       "      <td>NaN</td>\n",
       "      <td>Unassigned, Wisconsin, US</td>\n",
       "      <td>NaN</td>\n",
       "    </tr>\n",
       "    <tr>\n",
       "      <th>84090054</th>\n",
       "      <td>US</td>\n",
       "      <td>USA</td>\n",
       "      <td>840</td>\n",
       "      <td>90054.0</td>\n",
       "      <td>NaN</td>\n",
       "      <td>West Virginia</td>\n",
       "      <td>US</td>\n",
       "      <td>NaN</td>\n",
       "      <td>NaN</td>\n",
       "      <td>Unassigned, West Virginia, US</td>\n",
       "      <td>NaN</td>\n",
       "    </tr>\n",
       "    <tr>\n",
       "      <th>84090053</th>\n",
       "      <td>US</td>\n",
       "      <td>USA</td>\n",
       "      <td>840</td>\n",
       "      <td>90053.0</td>\n",
       "      <td>NaN</td>\n",
       "      <td>Washington</td>\n",
       "      <td>US</td>\n",
       "      <td>NaN</td>\n",
       "      <td>NaN</td>\n",
       "      <td>Unassigned, Washington, US</td>\n",
       "      <td>NaN</td>\n",
       "    </tr>\n",
       "  </tbody>\n",
       "</table>\n",
       "</div>"
      ],
      "text/plain": [
       "         iso2 iso3  code3     fips admin2  province_state country_region  \\\n",
       "uid                                                                        \n",
       "84099999   US  USA    840  99999.0    NaN  Grand Princess             US   \n",
       "84090056   US  USA    840  90056.0    NaN         Wyoming             US   \n",
       "84090055   US  USA    840  90055.0    NaN       Wisconsin             US   \n",
       "84090054   US  USA    840  90054.0    NaN   West Virginia             US   \n",
       "84090053   US  USA    840  90053.0    NaN      Washington             US   \n",
       "\n",
       "          latitude  longitude                   combined_key  population  \n",
       "uid                                                                       \n",
       "84099999       NaN        NaN             Grand Princess, US         NaN  \n",
       "84090056       NaN        NaN        Unassigned, Wyoming, US         NaN  \n",
       "84090055       NaN        NaN      Unassigned, Wisconsin, US         NaN  \n",
       "84090054       NaN        NaN  Unassigned, West Virginia, US         NaN  \n",
       "84090053       NaN        NaN     Unassigned, Washington, US         NaN  "
      ]
     },
     "execution_count": 72,
     "metadata": {},
     "output_type": "execute_result"
    }
   ],
   "source": [
    "CovidLocs.sort_values(by=\"uid\", ascending=False).head()"
   ]
  },
  {
   "cell_type": "markdown",
   "metadata": {},
   "source": [
    "Now create table CovidCases with uid, datestamp, cases and type:"
   ]
  },
  {
   "cell_type": "code",
   "execution_count": 73,
   "metadata": {},
   "outputs": [
    {
     "data": {
      "text/html": [
       "<div>\n",
       "<style scoped>\n",
       "    .dataframe tbody tr th:only-of-type {\n",
       "        vertical-align: middle;\n",
       "    }\n",
       "\n",
       "    .dataframe tbody tr th {\n",
       "        vertical-align: top;\n",
       "    }\n",
       "\n",
       "    .dataframe thead th {\n",
       "        text-align: right;\n",
       "    }\n",
       "</style>\n",
       "<table border=\"1\" class=\"dataframe\">\n",
       "  <thead>\n",
       "    <tr style=\"text-align: right;\">\n",
       "      <th></th>\n",
       "      <th>cid</th>\n",
       "      <th>cloc</th>\n",
       "      <th>rdate</th>\n",
       "      <th>ncas</th>\n",
       "      <th>ctype</th>\n",
       "    </tr>\n",
       "  </thead>\n",
       "  <tbody>\n",
       "    <tr>\n",
       "      <th>0</th>\n",
       "      <td>1</td>\n",
       "      <td>84001001</td>\n",
       "      <td>2020-01-22</td>\n",
       "      <td>0</td>\n",
       "      <td>C</td>\n",
       "    </tr>\n",
       "  </tbody>\n",
       "</table>\n",
       "</div>"
      ],
      "text/plain": [
       "   cid      cloc       rdate  ncas ctype\n",
       "0    1  84001001  2020-01-22     0     C"
      ]
     },
     "execution_count": 73,
     "metadata": {},
     "output_type": "execute_result"
    }
   ],
   "source": [
    "pd.read_sql('select * from covidcases limit 1', engine)"
   ]
  },
  {
   "cell_type": "markdown",
   "metadata": {},
   "source": [
    "My first 'naive' attempt at converting the data into one row per day and location.  Would take way too long."
   ]
  },
  {
   "cell_type": "code",
   "execution_count": 34,
   "metadata": {
    "scrolled": false
   },
   "outputs": [],
   "source": [
    "\"\"\"\n",
    "#start column for cases and deaths, respectively\n",
    "nd_i={\"C\": 11, \"D\": 12}\n",
    "df={\"C\": dfc, \"D\": dfd}\n",
    "\n",
    "c=0\n",
    "\n",
    "for ct in nd_i.keys():\n",
    "    adf=df[ct]\n",
    "    for l in range(nloc):\n",
    "        print(\"\\rprocessing loc %d out of %d\" % (l+1,nloc), end=\"\")\n",
    "        for n in range(nd_i[ct],nd):\n",
    "            uid=adf.loc[l,\"UID\"]\n",
    "            date=adf.columns[n]\n",
    "            ncas=adf.iloc[l,n]\n",
    "            covidcases.loc[c,\"cloc\"] = int(uid)\n",
    "            covidcases.loc[c,\"rdate\"] = str(date)\n",
    "            covidcases.loc[c,\"ncas\"] = int(ncas)\n",
    "            covidcases.loc[c,\"ctype\"] = str(ct)\n",
    "            c+=1\n",
    "    print(\" ok.\")\n",
    "\"\"\";"
   ]
  },
  {
   "cell_type": "markdown",
   "metadata": {},
   "source": [
    "A much faster way to form the data into one row per date and location:"
   ]
  },
  {
   "cell_type": "code",
   "execution_count": 35,
   "metadata": {},
   "outputs": [],
   "source": [
    "#xi=list([0])+list(range(11,nd))\n",
    "def covid19_col2row(indf, ctype=\"C\"):\n",
    "    #start_col: columns id where data starts (11 for confirmed and 12 for death tables)\n",
    "    assert ctype == \"C\" or ctype == \"D\", \"unknown ctype\"\n",
    "    if ctype == \"C\":\n",
    "        start_col=10\n",
    "    elif ctype == \"D\":\n",
    "        start_col=11\n",
    "    tmp=indf.set_index(\"UID\", drop=True)\n",
    "    st=tmp.iloc[:,start_col:].stack()\n",
    "    st=st.reset_index(level=[0,1])\n",
    "    st.columns=[\"cloc\",\"rdate\",\"ncas\"]\n",
    "    st[\"ctype\"] = ctype\n",
    "    \n",
    "    return st"
   ]
  },
  {
   "cell_type": "code",
   "execution_count": 36,
   "metadata": {},
   "outputs": [],
   "source": [
    "stc=covid19_col2row(dfc, ctype=\"C\")\n",
    "std=covid19_col2row(dfd, ctype=\"D\")"
   ]
  },
  {
   "cell_type": "code",
   "execution_count": 37,
   "metadata": {},
   "outputs": [],
   "source": [
    "covidcases=pd.concat([stc,std], axis=0)"
   ]
  },
  {
   "cell_type": "code",
   "execution_count": 53,
   "metadata": {},
   "outputs": [
    {
     "name": "stdout",
     "output_type": "stream",
     "text": [
      "Number of rows in covidcases: 2585160\n"
     ]
    }
   ],
   "source": [
    "nrows=len(covidcases)\n",
    "print(\"Number of rows in covidcases: %d\" % nrows)"
   ]
  },
  {
   "cell_type": "code",
   "execution_count": 56,
   "metadata": {},
   "outputs": [],
   "source": [
    "#covidcases.to_sql?"
   ]
  },
  {
   "cell_type": "markdown",
   "metadata": {},
   "source": [
    "The pandas `to_sql()` command crashes when trying to push all 2.5 million rows to the database, even when using a small value for the chunksize.  I am writing just a few 1,000 at a time and loading the data during a loop:\n",
    "\n",
    "**Update**: It seems to work when using the method 'multi' instead of 'none'.  Takes a while though.  Maybe a beefier EC2 and/or RDS instance would help."
   ]
  },
  {
   "cell_type": "code",
   "execution_count": 59,
   "metadata": {},
   "outputs": [],
   "source": [
    "import time"
   ]
  },
  {
   "cell_type": "code",
   "execution_count": 62,
   "metadata": {},
   "outputs": [],
   "source": [
    "res=engine.execute(\"delete from covidcases\")"
   ]
  },
  {
   "cell_type": "code",
   "execution_count": 63,
   "metadata": {},
   "outputs": [
    {
     "name": "stdout",
     "output_type": "stream",
     "text": [
      "Time for writing 2585160 rows: 224.6s\n"
     ]
    }
   ],
   "source": [
    "import time\n",
    "t1=time.time()\n",
    "covidcases.to_sql(\"covidcases\", engine, if_exists=\"append\", \n",
    "                    index=False, chunksize=1000, method=\"multi\")\n",
    "t2=time.time()\n",
    "print(\"Time for writing %d rows: %5.1fs\" % (nrows, t2-t1))"
   ]
  },
  {
   "cell_type": "code",
   "execution_count": 54,
   "metadata": {},
   "outputs": [],
   "source": [
    "#from ipywidgets import IntProgress\n",
    "#from IPython.display import display"
   ]
  },
  {
   "cell_type": "code",
   "execution_count": 58,
   "metadata": {
    "scrolled": false
   },
   "outputs": [],
   "source": [
    "\"\"\"\n",
    "step=10000\n",
    "wb=IntProgress(min=0, max=nrows)\n",
    "display(wb)\n",
    "for n in range(0, nrows, step):\n",
    "    wb.value=n\n",
    "    covidcases.iloc[n:n+step,:].to_sql(\"covidcases\", engine, if_exists=\"append\", \n",
    "                            index=False, chunksize=100)\n",
    "    print(\"\\rWriting rows %d to %d (total %d)\" % (n, n+step, nrows), end=\"\")\n",
    "\"\"\";"
   ]
  },
  {
   "cell_type": "code",
   "execution_count": null,
   "metadata": {},
   "outputs": [],
   "source": []
  }
 ],
 "metadata": {
  "kernelspec": {
   "display_name": "Python 3",
   "language": "python",
   "name": "python3"
  },
  "language_info": {
   "codemirror_mode": {
    "name": "ipython",
    "version": 3
   },
   "file_extension": ".py",
   "mimetype": "text/x-python",
   "name": "python",
   "nbconvert_exporter": "python",
   "pygments_lexer": "ipython3",
   "version": "3.7.3"
  }
 },
 "nbformat": 4,
 "nbformat_minor": 2
}
