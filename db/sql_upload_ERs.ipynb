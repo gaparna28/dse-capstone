{
 "cells": [
  {
   "cell_type": "markdown",
   "metadata": {},
   "source": [
    "## Upload list of California emergency rooms\n",
    "\n",
    "Link: https://data.chhs.ca.gov/dataset/licensed-healthcare-facility-listing\n",
    "\n",
    "(Download current list)"
   ]
  },
  {
   "cell_type": "code",
   "execution_count": 1,
   "metadata": {},
   "outputs": [],
   "source": [
    "import pandas as pd"
   ]
  },
  {
   "cell_type": "code",
   "execution_count": 6,
   "metadata": {},
   "outputs": [],
   "source": [
    "hf=pd.read_csv(\"current-healthcare-facility-listing.csv\")"
   ]
  },
  {
   "cell_type": "code",
   "execution_count": 7,
   "metadata": {},
   "outputs": [],
   "source": [
    "erlist=hf[hf[\"ER_SERVICE_LEVEL_DESC\"].str.lower().str.contains(\"emergency\")]"
   ]
  },
  {
   "cell_type": "code",
   "execution_count": 8,
   "metadata": {},
   "outputs": [
    {
     "data": {
      "text/html": [
       "<div>\n",
       "<style scoped>\n",
       "    .dataframe tbody tr th:only-of-type {\n",
       "        vertical-align: middle;\n",
       "    }\n",
       "\n",
       "    .dataframe tbody tr th {\n",
       "        vertical-align: top;\n",
       "    }\n",
       "\n",
       "    .dataframe thead th {\n",
       "        text-align: right;\n",
       "    }\n",
       "</style>\n",
       "<table border=\"1\" class=\"dataframe\">\n",
       "  <thead>\n",
       "    <tr style=\"text-align: right;\">\n",
       "      <th></th>\n",
       "      <th>OSHPD_ID</th>\n",
       "      <th>FACILITY_NAME</th>\n",
       "      <th>LICENSE_NUM</th>\n",
       "      <th>FACILITY_LEVEL_DESC</th>\n",
       "      <th>DBA_ADDRESS1</th>\n",
       "      <th>DBA_CITY</th>\n",
       "      <th>DBA_ZIP_CODE</th>\n",
       "      <th>COUNTY_CODE</th>\n",
       "      <th>COUNTY_NAME</th>\n",
       "      <th>ER_SERVICE_LEVEL_DESC</th>\n",
       "      <th>TOTAL_NUMBER_BEDS</th>\n",
       "      <th>FACILITY_STATUS_DESC</th>\n",
       "      <th>FACILITY_STATUS_DATE</th>\n",
       "      <th>LICENSE_TYPE_DESC</th>\n",
       "      <th>LICENSE_CATEGORY_DESC</th>\n",
       "      <th>LATITUDE</th>\n",
       "      <th>LONGITUDE</th>\n",
       "    </tr>\n",
       "  </thead>\n",
       "  <tbody>\n",
       "    <tr>\n",
       "      <th>504</th>\n",
       "      <td>106560525</td>\n",
       "      <td>ADVENTIST HEALTH SIMI VALLEY</td>\n",
       "      <td>050000216</td>\n",
       "      <td>Parent Facility</td>\n",
       "      <td>2975 Sycamore Dr</td>\n",
       "      <td>Simi Valley</td>\n",
       "      <td>93065</td>\n",
       "      <td>56</td>\n",
       "      <td>Ventura</td>\n",
       "      <td>Emergency - Basic</td>\n",
       "      <td>144</td>\n",
       "      <td>Open</td>\n",
       "      <td>1965-07-29</td>\n",
       "      <td>Hospital</td>\n",
       "      <td>General Acute Care Hospital</td>\n",
       "      <td>34.289730</td>\n",
       "      <td>-118.743940</td>\n",
       "    </tr>\n",
       "    <tr>\n",
       "      <th>505</th>\n",
       "      <td>106560529</td>\n",
       "      <td>ST. JOHN'S REGIONAL MEDICAL CENTER</td>\n",
       "      <td>050000064</td>\n",
       "      <td>Parent Facility</td>\n",
       "      <td>1600 N ROSE AVE</td>\n",
       "      <td>OXNARD</td>\n",
       "      <td>93030</td>\n",
       "      <td>56</td>\n",
       "      <td>Ventura</td>\n",
       "      <td>Emergency - Basic</td>\n",
       "      <td>269</td>\n",
       "      <td>Open</td>\n",
       "      <td>1953-01-01</td>\n",
       "      <td>Hospital</td>\n",
       "      <td>General Acute Care Hospital</td>\n",
       "      <td>34.216870</td>\n",
       "      <td>-119.158190</td>\n",
       "    </tr>\n",
       "    <tr>\n",
       "      <th>508</th>\n",
       "      <td>106571086</td>\n",
       "      <td>WOODLAND MEMORIAL HOSPITAL</td>\n",
       "      <td>030000115</td>\n",
       "      <td>Parent Facility</td>\n",
       "      <td>1325 COTTONWOOD ST</td>\n",
       "      <td>WOODLAND</td>\n",
       "      <td>95695</td>\n",
       "      <td>57</td>\n",
       "      <td>Yolo</td>\n",
       "      <td>Emergency - Basic</td>\n",
       "      <td>105</td>\n",
       "      <td>Open</td>\n",
       "      <td>1967-03-29</td>\n",
       "      <td>Hospital</td>\n",
       "      <td>General Acute Care Hospital</td>\n",
       "      <td>38.662840</td>\n",
       "      <td>-121.793300</td>\n",
       "    </tr>\n",
       "    <tr>\n",
       "      <th>509</th>\n",
       "      <td>106574010</td>\n",
       "      <td>SUTTER DAVIS HOSPITAL</td>\n",
       "      <td>030000124</td>\n",
       "      <td>Parent Facility</td>\n",
       "      <td>2000 Sutter Pl</td>\n",
       "      <td>Davis</td>\n",
       "      <td>95616</td>\n",
       "      <td>57</td>\n",
       "      <td>Yolo</td>\n",
       "      <td>Emergency - Basic</td>\n",
       "      <td>48</td>\n",
       "      <td>Open</td>\n",
       "      <td>1994-09-24</td>\n",
       "      <td>Hospital</td>\n",
       "      <td>General Acute Care Hospital</td>\n",
       "      <td>38.562890</td>\n",
       "      <td>-121.771640</td>\n",
       "    </tr>\n",
       "    <tr>\n",
       "      <th>510</th>\n",
       "      <td>106580996</td>\n",
       "      <td>ADVENTIST HEALTH AND RIDEOUT</td>\n",
       "      <td>230000126</td>\n",
       "      <td>Parent Facility</td>\n",
       "      <td>726 FOURTH ST</td>\n",
       "      <td>MARYSVILLE</td>\n",
       "      <td>95901</td>\n",
       "      <td>58</td>\n",
       "      <td>Yuba</td>\n",
       "      <td>Emergency - Basic</td>\n",
       "      <td>221</td>\n",
       "      <td>Open</td>\n",
       "      <td>1946-06-05</td>\n",
       "      <td>Hospital</td>\n",
       "      <td>General Acute Care Hospital</td>\n",
       "      <td>39.138805</td>\n",
       "      <td>-121.593602</td>\n",
       "    </tr>\n",
       "  </tbody>\n",
       "</table>\n",
       "</div>"
      ],
      "text/plain": [
       "      OSHPD_ID                       FACILITY_NAME LICENSE_NUM  \\\n",
       "504  106560525        ADVENTIST HEALTH SIMI VALLEY   050000216   \n",
       "505  106560529  ST. JOHN'S REGIONAL MEDICAL CENTER   050000064   \n",
       "508  106571086          WOODLAND MEMORIAL HOSPITAL   030000115   \n",
       "509  106574010               SUTTER DAVIS HOSPITAL   030000124   \n",
       "510  106580996        ADVENTIST HEALTH AND RIDEOUT   230000126   \n",
       "\n",
       "    FACILITY_LEVEL_DESC        DBA_ADDRESS1     DBA_CITY  DBA_ZIP_CODE  \\\n",
       "504     Parent Facility    2975 Sycamore Dr  Simi Valley         93065   \n",
       "505     Parent Facility     1600 N ROSE AVE       OXNARD         93030   \n",
       "508     Parent Facility  1325 COTTONWOOD ST     WOODLAND         95695   \n",
       "509     Parent Facility      2000 Sutter Pl        Davis         95616   \n",
       "510     Parent Facility       726 FOURTH ST   MARYSVILLE         95901   \n",
       "\n",
       "     COUNTY_CODE COUNTY_NAME ER_SERVICE_LEVEL_DESC TOTAL_NUMBER_BEDS  \\\n",
       "504           56     Ventura     Emergency - Basic               144   \n",
       "505           56     Ventura     Emergency - Basic               269   \n",
       "508           57        Yolo     Emergency - Basic               105   \n",
       "509           57        Yolo     Emergency - Basic                48   \n",
       "510           58        Yuba     Emergency - Basic               221   \n",
       "\n",
       "    FACILITY_STATUS_DESC FACILITY_STATUS_DATE LICENSE_TYPE_DESC  \\\n",
       "504                 Open           1965-07-29          Hospital   \n",
       "505                 Open           1953-01-01          Hospital   \n",
       "508                 Open           1967-03-29          Hospital   \n",
       "509                 Open           1994-09-24          Hospital   \n",
       "510                 Open           1946-06-05          Hospital   \n",
       "\n",
       "           LICENSE_CATEGORY_DESC   LATITUDE   LONGITUDE  \n",
       "504  General Acute Care Hospital  34.289730 -118.743940  \n",
       "505  General Acute Care Hospital  34.216870 -119.158190  \n",
       "508  General Acute Care Hospital  38.662840 -121.793300  \n",
       "509  General Acute Care Hospital  38.562890 -121.771640  \n",
       "510  General Acute Care Hospital  39.138805 -121.593602  "
      ]
     },
     "execution_count": 8,
     "metadata": {},
     "output_type": "execute_result"
    }
   ],
   "source": [
    "erlist.tail()"
   ]
  },
  {
   "cell_type": "code",
   "execution_count": 9,
   "metadata": {},
   "outputs": [
    {
     "name": "stdout",
     "output_type": "stream",
     "text": [
      "Number of emergency rooms found: 334\n"
     ]
    }
   ],
   "source": [
    "print(\"Number of emergency rooms found: %d\" % len(erlist))"
   ]
  },
  {
   "cell_type": "code",
   "execution_count": 10,
   "metadata": {},
   "outputs": [
    {
     "data": {
      "text/plain": [
       "['Emergency - Basic', 'Emergency - Standby', 'Emergency - Comprehensive']"
      ]
     },
     "execution_count": 10,
     "metadata": {},
     "output_type": "execute_result"
    }
   ],
   "source": [
    "erlist[\"ER_SERVICE_LEVEL_DESC\"].unique().tolist()"
   ]
  },
  {
   "cell_type": "code",
   "execution_count": 11,
   "metadata": {},
   "outputs": [
    {
     "data": {
      "text/plain": [
       "['Parent Facility', 'Consolidated Facility']"
      ]
     },
     "execution_count": 11,
     "metadata": {},
     "output_type": "execute_result"
    }
   ],
   "source": [
    "erlist[\"FACILITY_LEVEL_DESC\"].unique().tolist()"
   ]
  },
  {
   "cell_type": "code",
   "execution_count": 18,
   "metadata": {},
   "outputs": [],
   "source": [
    "import sqlalchemy as sal\n",
    "import getpass"
   ]
  },
  {
   "cell_type": "code",
   "execution_count": 19,
   "metadata": {},
   "outputs": [
    {
     "name": "stdout",
     "output_type": "stream",
     "text": [
      "Enter database password········\n"
     ]
    }
   ],
   "source": [
    "endpoint = \"capstone.clihskgj8i7s.us-west-2.rds.amazonaws.com\"\n",
    "user=\"group3\"\n",
    "db=\"db1\"\n",
    "pw=getpass.getpass(\"Enter database password\")"
   ]
  },
  {
   "cell_type": "code",
   "execution_count": 20,
   "metadata": {},
   "outputs": [],
   "source": [
    "engine = sal.create_engine('postgresql://%s:%s@%s/%s' % (user, pw, endpoint, db))"
   ]
  },
  {
   "cell_type": "code",
   "execution_count": 22,
   "metadata": {
    "scrolled": false
   },
   "outputs": [
    {
     "data": {
      "text/html": [
       "<div>\n",
       "<style scoped>\n",
       "    .dataframe tbody tr th:only-of-type {\n",
       "        vertical-align: middle;\n",
       "    }\n",
       "\n",
       "    .dataframe tbody tr th {\n",
       "        vertical-align: top;\n",
       "    }\n",
       "\n",
       "    .dataframe thead th {\n",
       "        text-align: right;\n",
       "    }\n",
       "</style>\n",
       "<table border=\"1\" class=\"dataframe\">\n",
       "  <thead>\n",
       "    <tr style=\"text-align: right;\">\n",
       "      <th></th>\n",
       "      <th>oshpd_id</th>\n",
       "      <th>zipcode</th>\n",
       "      <th>name</th>\n",
       "      <th>county_name</th>\n",
       "      <th>latitude</th>\n",
       "      <th>longitude</th>\n",
       "    </tr>\n",
       "  </thead>\n",
       "  <tbody>\n",
       "  </tbody>\n",
       "</table>\n",
       "</div>"
      ],
      "text/plain": [
       "Empty DataFrame\n",
       "Columns: [oshpd_id, zipcode, name, county_name, latitude, longitude]\n",
       "Index: []"
      ]
     },
     "execution_count": 22,
     "metadata": {},
     "output_type": "execute_result"
    }
   ],
   "source": [
    "pd.read_sql(\"select * from hospitals limit 1\", engine)"
   ]
  },
  {
   "cell_type": "code",
   "execution_count": 24,
   "metadata": {},
   "outputs": [],
   "source": [
    "df=erlist[[\"OSHPD_ID\",\"DBA_ZIP_CODE\",\"FACILITY_NAME\",\"COUNTY_NAME\",\"LATITUDE\",\"LONGITUDE\"]]"
   ]
  },
  {
   "cell_type": "code",
   "execution_count": 28,
   "metadata": {},
   "outputs": [],
   "source": [
    "cols=df.columns.str.lower().tolist()\n",
    "cols[1] = \"zipcode\"\n",
    "cols[2] = \"name\"\n",
    "df.columns=cols\n",
    "df.set_index(\"oshpd_id\", drop=True, inplace=True)"
   ]
  },
  {
   "cell_type": "code",
   "execution_count": 31,
   "metadata": {},
   "outputs": [],
   "source": [
    "df.to_sql(\"hospitals\", engine, if_exists=\"append\")"
   ]
  },
  {
   "cell_type": "code",
   "execution_count": 34,
   "metadata": {
    "scrolled": false
   },
   "outputs": [
    {
     "data": {
      "text/html": [
       "<div>\n",
       "<style scoped>\n",
       "    .dataframe tbody tr th:only-of-type {\n",
       "        vertical-align: middle;\n",
       "    }\n",
       "\n",
       "    .dataframe tbody tr th {\n",
       "        vertical-align: top;\n",
       "    }\n",
       "\n",
       "    .dataframe thead th {\n",
       "        text-align: right;\n",
       "    }\n",
       "</style>\n",
       "<table border=\"1\" class=\"dataframe\">\n",
       "  <thead>\n",
       "    <tr style=\"text-align: right;\">\n",
       "      <th></th>\n",
       "      <th>zipcode</th>\n",
       "      <th>name</th>\n",
       "      <th>county_name</th>\n",
       "      <th>latitude</th>\n",
       "      <th>longitude</th>\n",
       "    </tr>\n",
       "    <tr>\n",
       "      <th>oshpd_id</th>\n",
       "      <th></th>\n",
       "      <th></th>\n",
       "      <th></th>\n",
       "      <th></th>\n",
       "      <th></th>\n",
       "    </tr>\n",
       "  </thead>\n",
       "  <tbody>\n",
       "    <tr>\n",
       "      <th>106010735</th>\n",
       "      <td>94501</td>\n",
       "      <td>ALAMEDA HOSPITAL</td>\n",
       "      <td>Alameda</td>\n",
       "      <td>37.76266</td>\n",
       "      <td>-122.253991</td>\n",
       "    </tr>\n",
       "    <tr>\n",
       "      <th>106010739</th>\n",
       "      <td>94705</td>\n",
       "      <td>ALTA BATES SUMMIT MEDICAL CENTER-ALTA BATES CA...</td>\n",
       "      <td>Alameda</td>\n",
       "      <td>37.85645</td>\n",
       "      <td>-122.257430</td>\n",
       "    </tr>\n",
       "    <tr>\n",
       "      <th>106010776</th>\n",
       "      <td>94609</td>\n",
       "      <td>UCSF BENIOFF CHILDREN'S HOSPITAL OAKLAND</td>\n",
       "      <td>Alameda</td>\n",
       "      <td>37.83722</td>\n",
       "      <td>-122.267470</td>\n",
       "    </tr>\n",
       "    <tr>\n",
       "      <th>106010846</th>\n",
       "      <td>94602</td>\n",
       "      <td>HIGHLAND HOSPITAL</td>\n",
       "      <td>Alameda</td>\n",
       "      <td>37.79925</td>\n",
       "      <td>-122.231380</td>\n",
       "    </tr>\n",
       "    <tr>\n",
       "      <th>106010937</th>\n",
       "      <td>94609</td>\n",
       "      <td>ALTA BATES SUMMIT MEDICAL CENTER</td>\n",
       "      <td>Alameda</td>\n",
       "      <td>37.82106</td>\n",
       "      <td>-122.262570</td>\n",
       "    </tr>\n",
       "    <tr>\n",
       "      <th>106010967</th>\n",
       "      <td>94545</td>\n",
       "      <td>ST. ROSE HOSPITAL</td>\n",
       "      <td>Alameda</td>\n",
       "      <td>37.63291</td>\n",
       "      <td>-122.089620</td>\n",
       "    </tr>\n",
       "    <tr>\n",
       "      <th>106010987</th>\n",
       "      <td>94538</td>\n",
       "      <td>WASHINGTON HOSPITAL - FREMONT</td>\n",
       "      <td>Alameda</td>\n",
       "      <td>37.55847</td>\n",
       "      <td>-121.980060</td>\n",
       "    </tr>\n",
       "    <tr>\n",
       "      <th>106013619</th>\n",
       "      <td>94578</td>\n",
       "      <td>SAN LEANDRO HOSPITAL</td>\n",
       "      <td>Alameda</td>\n",
       "      <td>37.71364</td>\n",
       "      <td>-122.140670</td>\n",
       "    </tr>\n",
       "    <tr>\n",
       "      <th>106014050</th>\n",
       "      <td>94588</td>\n",
       "      <td>STANFORD HEALTH CARE - VALLEYCARE</td>\n",
       "      <td>Alameda</td>\n",
       "      <td>37.69206</td>\n",
       "      <td>-121.880950</td>\n",
       "    </tr>\n",
       "    <tr>\n",
       "      <th>106014132</th>\n",
       "      <td>94538</td>\n",
       "      <td>KAISER FOUNDATION HOSPITAL - FREMONT</td>\n",
       "      <td>Alameda</td>\n",
       "      <td>37.55055</td>\n",
       "      <td>-121.974830</td>\n",
       "    </tr>\n",
       "  </tbody>\n",
       "</table>\n",
       "</div>"
      ],
      "text/plain": [
       "           zipcode                                               name  \\\n",
       "oshpd_id                                                                \n",
       "106010735    94501                                   ALAMEDA HOSPITAL   \n",
       "106010739    94705  ALTA BATES SUMMIT MEDICAL CENTER-ALTA BATES CA...   \n",
       "106010776    94609           UCSF BENIOFF CHILDREN'S HOSPITAL OAKLAND   \n",
       "106010846    94602                                  HIGHLAND HOSPITAL   \n",
       "106010937    94609                   ALTA BATES SUMMIT MEDICAL CENTER   \n",
       "106010967    94545                                  ST. ROSE HOSPITAL   \n",
       "106010987    94538                      WASHINGTON HOSPITAL - FREMONT   \n",
       "106013619    94578                               SAN LEANDRO HOSPITAL   \n",
       "106014050    94588                  STANFORD HEALTH CARE - VALLEYCARE   \n",
       "106014132    94538               KAISER FOUNDATION HOSPITAL - FREMONT   \n",
       "\n",
       "          county_name  latitude   longitude  \n",
       "oshpd_id                                     \n",
       "106010735     Alameda  37.76266 -122.253991  \n",
       "106010739     Alameda  37.85645 -122.257430  \n",
       "106010776     Alameda  37.83722 -122.267470  \n",
       "106010846     Alameda  37.79925 -122.231380  \n",
       "106010937     Alameda  37.82106 -122.262570  \n",
       "106010967     Alameda  37.63291 -122.089620  \n",
       "106010987     Alameda  37.55847 -121.980060  \n",
       "106013619     Alameda  37.71364 -122.140670  \n",
       "106014050     Alameda  37.69206 -121.880950  \n",
       "106014132     Alameda  37.55055 -121.974830  "
      ]
     },
     "execution_count": 34,
     "metadata": {},
     "output_type": "execute_result"
    }
   ],
   "source": [
    "pd.read_sql(\"select * from hospitals limit 10\", engine, index_col=\"oshpd_id\")"
   ]
  },
  {
   "cell_type": "code",
   "execution_count": null,
   "metadata": {},
   "outputs": [],
   "source": []
  }
 ],
 "metadata": {
  "kernelspec": {
   "display_name": "Python 3",
   "language": "python",
   "name": "python3"
  },
  "language_info": {
   "codemirror_mode": {
    "name": "ipython",
    "version": 3
   },
   "file_extension": ".py",
   "mimetype": "text/x-python",
   "name": "python",
   "nbconvert_exporter": "python",
   "pygments_lexer": "ipython3",
   "version": "3.7.3"
  }
 },
 "nbformat": 4,
 "nbformat_minor": 2
}
